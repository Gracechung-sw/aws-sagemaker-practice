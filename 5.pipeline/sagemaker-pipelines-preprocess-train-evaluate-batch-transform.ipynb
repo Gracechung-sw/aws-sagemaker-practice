{
 "cells": [
  {
   "attachments": {},
   "cell_type": "markdown",
   "metadata": {
    "pycharm": {
     "name": "#%% md\n"
    }
   },
   "source": [
    "# Orchestrate Jobs to Train and Evaluate Models with Amazon SageMaker Pipelines\n"
   ]
  },
  {
   "attachments": {},
   "cell_type": "markdown",
   "metadata": {},
   "source": [
    "◉ 본 노트북 코드와 이미지는 AWS Sagemaker Example 코드를 참고하여 작성됐습니다.\n"
   ]
  },
  {
   "attachments": {},
   "cell_type": "markdown",
   "metadata": {
    "pycharm": {
     "name": "#%% md\n"
    }
   },
   "source": [
    "Amazon SageMaker Pipelines은 ML Application 개발자와 Ops 엔지니어들에게 ML 작업을 조율하고 재현 가능한 ML Pipeline을 작성할 수 있는 기능을 제공한다.\n",
    "\n",
    "## 개요\n",
    "\n",
    "1. [SageMaker Pipelines](#sagemaker-pipelines)\n",
    "1. [Notebook Overview](#notebook-overview)\n",
    "1. [A SageMaker Pipeline](#a-sagemaker-pipeline)\n",
    "1. [데이터셋](#데이터셋)\n",
    "1. [Pipeline 구성/실행을 위한 Parameter 정의](#pipeline-구성실행을-위한-parameter-정의)\n",
    "1. [Processing Step 정의 (Feature Engineeirng)](#processing-step-정의-feature-engineeirng)\n",
    "1. [Training Step 정의 (모델 학습)](#training-step-정의-모델-학습)\n",
    "1. [Model Evaluation Step 정의 (학습된 모델을 평가하기 위한 Step 정의)](#model-evaluation-step-정의-학습된-모델을-평가하기-위한-step-정의)\n",
    "1. [Model Step 정의 (모델 생성)](#model-step-정의-모델-생성)\n",
    "1. [Batch Transformation을 위한 Transform step 정의](#batch-transformation을-위한-transform-step-정의)\n",
    "1. [Model Package를 생성하기 위해 Register Model Step을 정의](#model-package를-생성하기-위해-register-model-step을-정의)\n",
    "1. [Pipeline 실행을 종료하고 Fail을 나타내기 위한 FailStep을 정의](#pipeline-실행을-종료하고-fail을-나타내기-위한-failstep을-정의)\n",
    "1. [Accuracy을 확인하는 Condition Step을 정의. step의 진행 조건에 따라 Pipeline DAG에서 조건부 실행을 지원할 수 있음.](#accuracy을-확인하는-condition-step을-정의-step의-진행-조건에-따라-pipeline-dag에서-조건부-실행을-지원할-수-있음)\n",
    "1. [Pipeline을 정의](#pipeline을-정의)\n",
    "1. [Pipeline 확인](#pipeline-확인)\n",
    "1. [Pipeline을 sagemaker에 등록 및 실행](#pipeline을-sagemaker에-등록-및-실행)\n",
    "1. [파이프라인 작업: 파이프라인 실행 검사 및 대기](#파이프라인-작업-파이프라인-실행-검사-및-대기)\n",
    "   1. [Pipeline 결과 검토](#pipeline-결과-검토)\n",
    "   1. [Lineage](#lineage)\n",
    "   1. [Parametrized Executions](#parametrized-실행)\n",
    "\n",
    "## Reference\n",
    "\n",
    "- https://sagemaker-examples.readthedocs.io/en/latest/sagemaker-pipelines/tabular/abalone_build_train_deploy/sagemaker-pipelines-preprocess-train-evaluate-batch-transform_outputs.html\n"
   ]
  },
  {
   "attachments": {},
   "cell_type": "markdown",
   "metadata": {
    "pycharm": {
     "name": "#%% md\n"
    }
   },
   "source": [
    "## SageMaker Pipelines\n",
    "\n",
    "본 노트북에서 다룰 Sagemaker Pipeline 기능 리스트\n",
    "\n",
    "- Pipelines - Sagemaker Job과 Resource Creation을 관리/자동화하기 위한 DAG (step, condition으로 구성)\n",
    "- Processing job steps - feature engineering, data validation, model evaluation, model interpretation와 같은 Data processing workload를 실행하기 위한 DAG Step (job steps)\n",
    "- Training job steps - 훈련 데이터셋을 활용하여 모델 학습과 예측을 반복하는 DAG Step (job steps)\n",
    "- Conditional execution steps - Pipeline의 분기에서 조건부 실행을 제공하는 Step\n",
    "- Register model steps - SageMaker' Model Registry에서 사용할 수 있는 모델 패키지 리소스를 생성하는 단계로, 이를 통해 Amazon Sagemaker에서 배포 가능한 모델을 등록하는 Step\n",
    "- Create model steps - Transformation 혹은 Endpoint에 Model을 적용하기 위한 모델 생성 Step\n",
    "- Transform job steps - 데이터 셋에서 훈련이나 추론에 방해되는 잡음이나 편향을 제거하거나 대용량 데이터셋에서 추론을 실행하는 Step. 지속적인 Endpoint가 필요없는 경우에 Inference를 수행하는 Batch Step\n",
    "- Fail steps - Pipeline 실행을 중지하고 Pipeline 실행을 실패로 표시하는 Step\n",
    "- Parametrized Pipeline executions - 지정된 Parameter에 따란 Pipeline 실행을 다양화할 수 있도록 하는 Component\n"
   ]
  },
  {
   "attachments": {},
   "cell_type": "markdown",
   "metadata": {
    "pycharm": {
     "name": "#%% md\n"
    }
   },
   "source": [
    "## Notebook Overview\n",
    "\n",
    "1. SageMaker Pipeline 동작을 위한 요소들을 매개변수화할 수 있는 Pipeline parameters를 정의\n",
    "2. Processing Step 정의 (data cleansing, feature engineering, data set split(훈련 데이터, 테스트 데이터))\n",
    "3. Training Step 정의 (전처리된 데이터셋을 활용하여 모델 학습을 진행)\n",
    "4. Processing Step 정의 (학습된 모델의 성능을 평가하는 단계)\n",
    "5. Create Model Step 정의 (훈련에 사용된 Model artifact를 활용하여 모델을 생성하는 단계)\n",
    "6. Transform Step 정의 (생성된 모델을 기반으로 배치 작업을 수행하는 설정)\n",
    "7. Register Model Step 정의 (학습된 모델을 model package화 하는 단계)\n",
    "8. Conditional Step 정의 (Pipeline 이전 단계의 출력을 기반으로 조건을 확인하고, 조건에 따른 다른 단게를 조건부로 실행하는 조건 단계 정의)\n",
    "9. Fail Step 정의 (실패 상황을 정의하고, customized error message 를 설정하는 단계)\n",
    "10. Pipeline 생성과 정의 (앞에서 생성한 Step과 parameter를 활용하여 pipeline 생성)\n",
    "11. Pipeline 실행\n",
    "12. Model Evaluation 결과 확인\n",
    "13. Condition 설정과 Pipeline 재실행\n"
   ]
  },
  {
   "attachments": {},
   "cell_type": "markdown",
   "metadata": {
    "pycharm": {
     "name": "#%% md\n"
    }
   },
   "source": [
    "## A SageMaker Pipeline\n",
    "\n",
    "본 실습에서 생성하는 Pipeline은 전처리, 학습, 평가, 모델 생성, 배치 변환 및 모델 등록과 같은 전형적인 Machine Learning Application 패턴을 따릅니다 :\n",
    "\n",
    "![A](./img/pipeline-full.png)\n"
   ]
  },
  {
   "attachments": {},
   "cell_type": "markdown",
   "metadata": {
    "pycharm": {
     "name": "#%% md\n"
    }
   },
   "source": [
    "## 데이터셋\n",
    "\n",
    "1. 출처 : [UCI Machine Learning Abalone Dataset](https://archive.ics.uci.edu/ml/datasets/abalone)\n",
    "2. 데이터 설명 : 전복의 외형적 수치 데이터와 전복의 나이(생존기간) 데이터가 포함되어 있습니다.\n",
    "3. 데이터 분석 목적 : 전복의 외형적 수치 데이터를 기반으로 하여 전복의 나이(생존기간) 예측 / Regression(회귀) 문제.\n",
    "4. 데이터 셋 구성\n",
    "\n",
    "   | 특성                        | 설명                        |\n",
    "   | --------------------------- | --------------------------- |\n",
    "   | 길이(length)                | 전복의 껍질 길이            |\n",
    "   | 직경(diameter)              | 전복의 직경                 |\n",
    "   | 높이(height)                | 전복의 높이                 |\n",
    "   | 전체 무게(whole_weight)     | 전체 전복의 무게            |\n",
    "   | 분리된 무게(shucked_weight) | 전복의 무게                 |\n",
    "   | 내장 무게(viscera_weight)   | 전복의 무게(피를 제외)      |\n",
    "   | 건조된 무게(shell_weight)   | 건조된 뒤의 전복의 무게     |\n",
    "   | 성별(sex)                   | 'M', 'F', 'I' 중 'I'는 유아 |\n",
    "   | 링의 수(rings)              | 나이, 생존기간              |\n"
   ]
  },
  {
   "cell_type": "code",
   "execution_count": null,
   "metadata": {
    "collapsed": false,
    "jupyter": {
     "outputs_hidden": false
    },
    "pycharm": {
     "name": "#%%\n"
    }
   },
   "outputs": [],
   "source": [
    "!pip install -U sagemaker"
   ]
  },
  {
   "cell_type": "code",
   "execution_count": null,
   "metadata": {
    "pycharm": {
     "name": "#%%\n"
    }
   },
   "outputs": [],
   "source": [
    "import sys\n",
    "\n",
    "import boto3\n",
    "import sagemaker\n",
    "from sagemaker.workflow.pipeline_context import PipelineSession\n",
    "\n",
    "sagemaker_session = sagemaker.session.Session()\n",
    "region = sagemaker_session.boto_region_name\n",
    "role = sagemaker.get_execution_role()\n",
    "pipeline_session = PipelineSession()\n",
    "default_bucket = sagemaker_session.default_bucket()\n",
    "model_package_group_name = f\"PipelineForAbaloneRings\""
   ]
  },
  {
   "attachments": {},
   "cell_type": "markdown",
   "metadata": {
    "pycharm": {
     "name": "#%% md\n"
    }
   },
   "source": [
    "데이터 업로드 진행. default bucket을 활용하며, sagemaker에서 자동으로 bucket을 생성해줌.\n"
   ]
  },
  {
   "cell_type": "code",
   "execution_count": null,
   "metadata": {
    "pycharm": {
     "name": "#%%\n"
    }
   },
   "outputs": [],
   "source": [
    "!mkdir -p data"
   ]
  },
  {
   "cell_type": "code",
   "execution_count": null,
   "metadata": {
    "pycharm": {
     "name": "#%%\n"
    }
   },
   "outputs": [],
   "source": [
    "local_path = \"data/abalone-dataset.csv\"\n",
    "\n",
    "s3 = boto3.resource(\"s3\")\n",
    "s3.Bucket(f\"sagemaker-example-files-prod-{region}\").download_file(\n",
    "    \"datasets/tabular/uci_abalone/abalone.csv\", local_path\n",
    ")\n",
    "\n",
    "base_uri = f\"s3://{default_bucket}/abalone\"\n",
    "input_data_uri = sagemaker.s3.S3Uploader.upload(\n",
    "    local_path=local_path,\n",
    "    desired_s3_uri=base_uri,\n",
    ")\n",
    "print(input_data_uri)"
   ]
  },
  {
   "attachments": {},
   "cell_type": "markdown",
   "metadata": {
    "pycharm": {
     "name": "#%% md\n"
    }
   },
   "source": [
    "모델 생성 후에 Batch Transformation을 위한 Dataset 준비.\n"
   ]
  },
  {
   "cell_type": "code",
   "execution_count": null,
   "metadata": {
    "pycharm": {
     "name": "#%%\n"
    }
   },
   "outputs": [],
   "source": [
    "local_path = \"data/abalone-dataset-batch\"\n",
    "\n",
    "s3 = boto3.resource(\"s3\")\n",
    "s3.Bucket(f\"sagemaker-servicecatalog-seedcode-{region}\").download_file(\n",
    "    \"dataset/abalone-dataset-batch\", local_path\n",
    ")\n",
    "\n",
    "base_uri = f\"s3://{default_bucket}/abalone\"\n",
    "batch_data_uri = sagemaker.s3.S3Uploader.upload(\n",
    "    local_path=local_path,\n",
    "    desired_s3_uri=base_uri,\n",
    ")\n",
    "print(batch_data_uri)"
   ]
  },
  {
   "attachments": {},
   "cell_type": "markdown",
   "metadata": {
    "pycharm": {
     "name": "#%% md\n"
    }
   },
   "source": [
    "## Pipeline 구성/실행을 위한 Parameter 정의\n",
    "\n",
    "Pipeline을 매개변수화하는데 사용할 수 있는 Pipeline Parameter(매개변수) 정의합니다. Parameter를 사용하면 Pipeline 정의를 수정하지 않고 User-defined Pipeline 실행 및 일정을 설정합니다.\n",
    "\n",
    "![B](./img/pipeline-1.png)\n",
    "\n",
    "지원되는 Parameter 유형은 아래와 같습니다.\n",
    "\n",
    "- `ParameterString` - Python `str` type\n",
    "- `ParameterInteger` - Python `int` type\n",
    "- `ParameterFloat` - Python `float` type\n",
    "\n",
    "이러한 매개변수는 디폴트 값이 설정되어야 하며, 파이프라인 실행 중에 재정의가 가능하다. 지정된 기본값은 매개변수 유형의 instance 여야한다.\n",
    "\n",
    "Pipeline의 Workflow에서 정의되는 Parameter는 아래와 같습니다.\n",
    "\n",
    "- `processing_instance_count` - Instance 갯수\n",
    "- `instance_type` - Instance 유형\n",
    "- `model_approval_status` - CI/CD 목적으로 훈련된 모델을 등록할 approval status\n",
    "- `input_data` - 입력 데이터의 s3 bucket uri\n",
    "- `batch_data` - 배치 데이터의 s3 bucket uri\n",
    "- `mse_threshold` - 모델 정확도를 확인하는 데 사용되는 MSE Threshold\n"
   ]
  },
  {
   "cell_type": "code",
   "execution_count": null,
   "metadata": {
    "pycharm": {
     "name": "#%%\n"
    }
   },
   "outputs": [],
   "source": [
    "from sagemaker.workflow.parameters import (\n",
    "    ParameterInteger,\n",
    "    ParameterString,\n",
    "    ParameterFloat,\n",
    ")\n",
    "\n",
    "processing_instance_count = ParameterInteger(\n",
    "    name=\"ProcessingInstanceCount\", default_value=1)\n",
    "instance_type = ParameterString(\n",
    "    name=\"TrainingInstanceType\", default_value=\"ml.t3.medium\")\n",
    "model_approval_status = ParameterString(\n",
    "    name=\"ModelApprovalStatus\", default_value=\"PendingManualApproval\")\n",
    "\n",
    "input_data = ParameterString(name=\"InputData\", default_value=input_data_uri)\n",
    "batch_data = ParameterString(name=\"BatchData\", default_value=batch_data_uri)\n",
    "mse_threshold = ParameterFloat(name=\"MseThreshold\", default_value=6.0)"
   ]
  },
  {
   "attachments": {},
   "cell_type": "markdown",
   "metadata": {
    "pycharm": {
     "name": "#%% md\n"
    }
   },
   "source": [
    "## Processing Step 정의 (Feature Engineeirng)\n",
    "\n",
    "우선, Processing Step 정의를 위하여 Feature Engineering을 위한 전처리 Script가 개발되어야 한다.\n",
    "해당 코드는 ./code/preprocessing.py 에 저장되어 있다.\n",
    "\n",
    "Processing Step은 해당 script를 input data와 실행한다. Training Step은 전처리된 훈련 특성과 label을 사용하여 모델을 학습한다. Evaluation 단계는 훈련된 모델과 Test Data를 활용하여 모델을 평가한다.\n",
    "\n",
    "![C](./img/pipeline-2.png)\n"
   ]
  },
  {
   "attachments": {},
   "cell_type": "markdown",
   "metadata": {
    "pycharm": {
     "name": "#%% md\n"
    }
   },
   "source": [
    "1. SKLearnProcessor 인스턴스 생성하며, 추후 ProcessingStep에 활용한다\n",
    "2. 위에서 정의한 parameter(processing_instance_count, instance_type)를 사용한다 (불필요하게 많이 하면 과금될 수 있음. 1개로 진행해도 충분)\n"
   ]
  },
  {
   "cell_type": "code",
   "execution_count": null,
   "metadata": {
    "pycharm": {
     "name": "#%%\n"
    }
   },
   "outputs": [],
   "source": [
    "# SKLearnProcessor Estimator를 사용하여 전처리 작업을 수행합니다.\n",
    "from sagemaker.sklearn.processing import SKLearnProcessor\n",
    "\n",
    "\n",
    "framework_version = \"1.2-1\"\n",
    "\n",
    "sklearn_processor = SKLearnProcessor(\n",
    "    framework_version=framework_version,\n",
    "    instance_type=instance_type,\n",
    "    instance_count=processing_instance_count,\n",
    "    base_job_name=\"sklearn-abalone-process\",\n",
    "    role=role,\n",
    "    sagemaker_session=pipeline_session,\n",
    ")"
   ]
  },
  {
   "attachments": {},
   "cell_type": "markdown",
   "metadata": {
    "pycharm": {
     "name": "#%% md\n"
    }
   },
   "source": [
    "3. 위에서 생성한 sklearn_processor에 run() method와 함께 인자들을 추가하고, ProcessingStep으로 정의한다.\n"
   ]
  },
  {
   "cell_type": "code",
   "execution_count": null,
   "metadata": {
    "pycharm": {
     "name": "#%%\n"
    }
   },
   "outputs": [],
   "source": [
    "from sagemaker.processing import ProcessingInput, ProcessingOutput\n",
    "from sagemaker.workflow.steps import ProcessingStep\n",
    "\n",
    "# sklearn_processor의 input, output, code를 정의합니다.\n",
    "processor_args = sklearn_processor.run(\n",
    "    inputs=[\n",
    "        ProcessingInput(source=input_data,  # 이 input_data를 사용해서 전처리 작업을 수행합니다.\n",
    "                        # 이 destination은 local경로이다. 여기에 input_data를 저장합니다. 그리고 이 esimator는 이 경로에서 Input data를 가져와서 사용한다.\n",
    "                        destination=\"/opt/ml/processing/input\"),\n",
    "    ],\n",
    "\n",
    "    outputs=[\n",
    "        ProcessingOutput(output_name=\"train\",\n",
    "                         source=\"/opt/ml/processing/train\"),\n",
    "        ProcessingOutput(output_name=\"validation\",\n",
    "                         source=\"/opt/ml/processing/validation\"),\n",
    "        ProcessingOutput(output_name=\"test\", source=\"/opt/ml/processing/test\"),\n",
    "    ],\n",
    "    code=\"code/preprocessing.py\",\n",
    ")\n",
    "\n",
    "step_process = ProcessingStep(name=\"AbaloneProcess\", step_args=processor_args)"
   ]
  },
  {
   "attachments": {},
   "cell_type": "markdown",
   "metadata": {
    "pycharm": {
     "name": "#%% md\n"
    }
   },
   "source": [
    "## Training Step 정의 (모델 학습)\n",
    "\n",
    "Amazon Sagemaker에서 지원하는 XGBoost 알고리즘을 활용하여 모델을 학습한다.\n",
    "\n",
    "1. XGBoost 알고리즘과 input data에 대한 Estimator를 구성한다. 이때, sagemaker_session에 pipeline_session을 넘겨주면 바로 실행하지 않고, pipeline 작업 단계에 필요한 인수를 반환한다.\n",
    "2. XGBoost 알고리즘에서 사용할 hyperparameter를 정의한다.\n",
    "3. 1번에서 생성된 Estimator에 fit 메소드를 적용하고, 학습을 위한 parameter를 적용한다. 이때, Processing Step에서 생성된 data를 input으로 넘겨준다.\n",
    "\n",
    "![D](./img/pipeline-3.png)\n"
   ]
  },
  {
   "cell_type": "code",
   "execution_count": null,
   "metadata": {
    "pycharm": {
     "name": "#%%\n"
    }
   },
   "outputs": [],
   "source": [
    "from sagemaker.estimator import Estimator\n",
    "from sagemaker.inputs import TrainingInput\n",
    "\n",
    "# Model Training with Estimator and Trainig job\n",
    "model_path = f\"s3://{default_bucket}/AbaloneTrain\"\n",
    "image_uri = sagemaker.image_uris.retrieve(\n",
    "    framework=\"xgboost\",\n",
    "    region=region,\n",
    "    version=\"1.0-1\",\n",
    "    py_version=\"py3\",\n",
    "    instance_type=\"ml.m5.xlarge\",\n",
    ")\n",
    "xgb_train = Estimator(\n",
    "    image_uri=image_uri,\n",
    "    instance_type=instance_type,\n",
    "    instance_count=1,\n",
    "    output_path=model_path,\n",
    "    role=role,\n",
    "    sagemaker_session=pipeline_session,\n",
    ")\n",
    "xgb_train.set_hyperparameters(\n",
    "    objective=\"reg:linear\",\n",
    "    num_round=50,\n",
    "    max_depth=5,\n",
    "    eta=0.2,\n",
    "    gamma=4,\n",
    "    min_child_weight=6,\n",
    "    subsample=0.7,\n",
    ")\n",
    "\n",
    "train_args = xgb_train.fit(\n",
    "    inputs={\n",
    "        \"train\": TrainingInput(\n",
    "            # 이전에 전처리 작업( = step_process) 을 수행한 output을 사용하여 학습을 수행합니다.\n",
    "            s3_data=step_process.properties.ProcessingOutputConfig.Outputs[\"train\"].S3Output.S3Uri,\n",
    "            content_type=\"text/csv\",\n",
    "        ),\n",
    "        \"validation\": TrainingInput(\n",
    "            s3_data=step_process.properties.ProcessingOutputConfig.Outputs[\n",
    "                \"validation\"\n",
    "            ].S3Output.S3Uri,\n",
    "            content_type=\"text/csv\",\n",
    "        ),\n",
    "    }\n",
    ")"
   ]
  },
  {
   "attachments": {},
   "cell_type": "markdown",
   "metadata": {},
   "source": [
    "4. 위에서 생성된 train_arg를 TrainingStep에 인수로 전달하여, Step을 정의 완료한다.\n"
   ]
  },
  {
   "cell_type": "code",
   "execution_count": null,
   "metadata": {
    "pycharm": {
     "name": "#%%\n"
    }
   },
   "outputs": [],
   "source": [
    "from sagemaker.inputs import TrainingInput\n",
    "from sagemaker.workflow.steps import TrainingStep\n",
    "\n",
    "\n",
    "step_train = TrainingStep(\n",
    "    name=\"AbaloneTrain\",\n",
    "    step_args=train_args,\n",
    ")"
   ]
  },
  {
   "attachments": {},
   "cell_type": "markdown",
   "metadata": {
    "pycharm": {
     "name": "#%% md\n"
    }
   },
   "source": [
    "## Model Evaluation Step 정의 (학습된 모델을 평가하기 위한 Step 정의)\n",
    "\n",
    "1. 모델 평가를 위한 script 개발이 필요하다. 해당 코드는 ./code/evaluation.py에 위치해있다.\n",
    "2. ScriptProcessor를 생성하여, 모델 평가 script를 실행할 수 있는 Instance를 생성한다.\n",
    "3. 해당 ScriptProcessor를 ProcessingStep로 정의한다.\n",
    "\n",
    "![E](./img/pipeline-4.png)\n"
   ]
  },
  {
   "cell_type": "code",
   "execution_count": null,
   "metadata": {
    "pycharm": {
     "name": "#%%\n"
    }
   },
   "outputs": [],
   "source": [
    "from sagemaker.processing import ScriptProcessor\n",
    "\n",
    "\n",
    "script_eval = ScriptProcessor(\n",
    "    image_uri=image_uri,\n",
    "    command=[\"python3\"],\n",
    "    instance_type=\"ml.m5.xlarge\",\n",
    "    instance_count=1,\n",
    "    base_job_name=\"script-abalone-eval\",\n",
    "    role=role,\n",
    "    sagemaker_session=pipeline_session,\n",
    ")\n",
    "\n",
    "eval_args = script_eval.run(\n",
    "    inputs=[\n",
    "        ProcessingInput(\n",
    "            source=step_train.properties.ModelArtifacts.S3ModelArtifacts,\n",
    "            destination=\"/opt/ml/processing/model\",\n",
    "        ),\n",
    "        ProcessingInput(\n",
    "            source=step_process.properties.ProcessingOutputConfig.Outputs[\"test\"].S3Output.S3Uri,\n",
    "            destination=\"/opt/ml/processing/test\",\n",
    "        ),\n",
    "    ],\n",
    "    outputs=[\n",
    "        ProcessingOutput(output_name=\"evaluation\",\n",
    "                         source=\"/opt/ml/processing/evaluation\"),\n",
    "    ],\n",
    "    code=\"code/evaluation.py\",\n",
    ")"
   ]
  },
  {
   "attachments": {},
   "cell_type": "markdown",
   "metadata": {
    "pycharm": {
     "name": "#%% md\n"
    }
   },
   "source": [
    "4. evaluation_report를 설정하고 이를 ProcessingStep의 인자로 넣어주면, 추후에 evaluation_report의 path(evaluation.json)에서 분석이 가능하다.\n"
   ]
  },
  {
   "cell_type": "code",
   "execution_count": null,
   "metadata": {
    "pycharm": {
     "name": "#%%\n"
    }
   },
   "outputs": [],
   "source": [
    "from sagemaker.workflow.properties import PropertyFile\n",
    "\n",
    "\n",
    "evaluation_report = PropertyFile(\n",
    "    name=\"EvaluationReport\", output_name=\"evaluation\", path=\"evaluation.json\")\n",
    "step_eval = ProcessingStep(\n",
    "    name=\"AbaloneEval\",\n",
    "    step_args=eval_args,\n",
    "    property_files=[evaluation_report],\n",
    ")"
   ]
  },
  {
   "attachments": {},
   "cell_type": "markdown",
   "metadata": {
    "pycharm": {
     "name": "#%% md\n"
    }
   },
   "source": [
    "## Model Step 정의 (모델 생성)\n",
    "\n",
    "생성된 모델을 활용해서 배치 transformation(inference 등)을 수행하기 위해 정의한다.\n",
    "위의 train step에서 생성된 model artifact를 전달한다.\n"
   ]
  },
  {
   "cell_type": "code",
   "execution_count": null,
   "metadata": {
    "pycharm": {
     "name": "#%%\n"
    }
   },
   "outputs": [],
   "source": [
    "from sagemaker.model import Model\n",
    "from sagemaker.inputs import CreateModelInput\n",
    "from sagemaker.workflow.model_step import ModelStep\n",
    "\n",
    "model = Model(\n",
    "    image_uri=image_uri,\n",
    "    model_data=step_train.properties.ModelArtifacts.S3ModelArtifacts,\n",
    "    sagemaker_session=pipeline_session,\n",
    "    role=role,\n",
    ")\n",
    "step_create_model = ModelStep(\n",
    "    name=\"AbaloneCreateModel\",\n",
    "    step_args=model.create(instance_type=\"ml.m5.large\",\n",
    "                           accelerator_type=\"ml.eia1.medium\"),\n",
    ")"
   ]
  },
  {
   "attachments": {},
   "cell_type": "markdown",
   "metadata": {
    "pycharm": {
     "name": "#%% md\n"
    }
   },
   "source": [
    "## Batch Transformation을 위한 Transform step 정의\n",
    "\n",
    "`CreateModelStep`의 ModelName을 `Transformer` 에 전달하여 객체를 생성한다.\n",
    "그리고 해당 객체를 `TransformStep`에 전달하여 Step을 정의 완료한다.\n"
   ]
  },
  {
   "cell_type": "code",
   "execution_count": null,
   "metadata": {
    "pycharm": {
     "name": "#%%\n"
    }
   },
   "outputs": [],
   "source": [
    "from sagemaker.transformer import Transformer\n",
    "from sagemaker.inputs import TransformInput\n",
    "from sagemaker.workflow.steps import TransformStep\n",
    "\n",
    "transformer = Transformer(\n",
    "    model_name=step_create_model.properties.ModelName,\n",
    "    instance_type=\"ml.m5.xlarge\",\n",
    "    instance_count=1,\n",
    "    output_path=f\"s3://{default_bucket}/AbaloneTransform\",\n",
    ")\n",
    "step_transform = TransformStep(\n",
    "    name=\"AbaloneTransform\", transformer=transformer, inputs=TransformInput(data=batch_data)\n",
    ")"
   ]
  },
  {
   "attachments": {},
   "cell_type": "markdown",
   "metadata": {
    "pycharm": {
     "name": "#%% md\n"
    }
   },
   "source": [
    "## Model Package를 생성하기 위해 Register Model Step을 정의\n",
    "\n",
    "Model Package는 추론에 필요한 모든 구성 요소를 포함하는 재사용 가능한 Model Artifact의 추상화버전이다. (추론에 사용할 imagedhk Model 가중치를 정의)\n",
    "Model Package Group은 여러 개의 Model Pacakge를 포함\n",
    "\n",
    "Model을 Model Registry에 등록하기 위해 생성한 Model을 가져와 register() 진행한다.\n",
    "\n",
    "![A](./img/pipeline-5.png)\n"
   ]
  },
  {
   "cell_type": "code",
   "execution_count": null,
   "metadata": {
    "pycharm": {
     "name": "#%%\n"
    }
   },
   "outputs": [],
   "source": [
    "from sagemaker.model_metrics import MetricsSource, ModelMetrics\n",
    "\n",
    "model_metrics = ModelMetrics(\n",
    "    model_statistics=MetricsSource(\n",
    "        s3_uri=\"{}/evaluation.json\".format(\n",
    "            step_eval.arguments[\"ProcessingOutputConfig\"][\"Outputs\"][0][\"S3Output\"][\"S3Uri\"]\n",
    "        ),\n",
    "        content_type=\"application/json\",\n",
    "    )\n",
    ")\n",
    "\n",
    "register_args = model.register(\n",
    "    content_types=[\"text/csv\"],\n",
    "    response_types=[\"text/csv\"],\n",
    "    inference_instances=[\"ml.t2.medium\", \"ml.m5.xlarge\"],\n",
    "    transform_instances=[\"ml.m5.xlarge\"],\n",
    "    model_package_group_name=model_package_group_name,\n",
    "    approval_status=model_approval_status,\n",
    "    model_metrics=model_metrics,\n",
    ")\n",
    "step_register = ModelStep(name=\"AbaloneRegisterModel\", step_args=register_args)"
   ]
  },
  {
   "attachments": {},
   "cell_type": "markdown",
   "metadata": {
    "pycharm": {
     "name": "#%% md\n"
    }
   },
   "source": [
    "## Pipeline 실행을 종료하고 Fail을 나타내기 위한 FailStep을 정의\n",
    "\n",
    "특정 조건(아래에서는 mse_threshold)을 만족하지 못하면, 사용자 정의 오류 메시지와 함께 Fail 상황을 알리고 Pipeline을 멈추도록 설정\n",
    "![B](img/pipeline-8.png)\n"
   ]
  },
  {
   "cell_type": "code",
   "execution_count": null,
   "metadata": {
    "pycharm": {
     "name": "#%%\n"
    }
   },
   "outputs": [],
   "source": [
    "from sagemaker.workflow.fail_step import FailStep\n",
    "from sagemaker.workflow.functions import Join\n",
    "\n",
    "step_fail = FailStep(\n",
    "    name=\"AbaloneMSEFail\",\n",
    "    error_message=Join(  # Fail시에 원하는 에러 메세지를 출력할 수 있습니다.\n",
    "        on=\" \", values=[\"Execution failed due to MSE >\", mse_threshold]),\n",
    ")"
   ]
  },
  {
   "attachments": {},
   "cell_type": "markdown",
   "metadata": {
    "pycharm": {
     "name": "#%% md\n"
    }
   },
   "source": [
    "## Accuracy을 확인하는 Condition Step을 정의. step의 진행 조건에 따라 Pipeline DAG에서 조건부 실행을 지원할 수 있음.\n",
    "\n",
    "![D](./img/pipeline-6.png)\n"
   ]
  },
  {
   "cell_type": "code",
   "execution_count": null,
   "metadata": {
    "pycharm": {
     "name": "#%%\n"
    }
   },
   "outputs": [],
   "source": [
    "# 여러가지 조건이 있는데 ConditionLessThanOrEqualTo을 써 볼 것이다.\n",
    "from sagemaker.workflow.conditions import ConditionLessThanOrEqualTo\n",
    "from sagemaker.workflow.condition_step import ConditionStep\n",
    "from sagemaker.workflow.functions import JsonGet\n",
    "\n",
    "\n",
    "cond_lte = ConditionLessThanOrEqualTo(  # left값이 mse_threshold 보다 작거나 같으면 True를 반환합니다.\n",
    "    left=JsonGet(\n",
    "        step_name=step_eval.name,\n",
    "        property_file=evaluation_report,\n",
    "        json_path=\"regression_metrics.mse.value\",\n",
    "    ),\n",
    "    right=mse_threshold,\n",
    ")\n",
    "\n",
    "step_cond = ConditionStep(\n",
    "    name=\"AbaloneMSECond\",\n",
    "    conditions=[cond_lte],\n",
    "    # conditions가 True 일 때, 즉 조건이 만족할 경우 실행할 step을 정의합니다.\n",
    "    if_steps=[step_register, step_create_model, step_transform],\n",
    "    else_steps=[step_fail],  # 조건이 만족하지 않을 경우 실행할 step을 정의합니다.\n",
    ")"
   ]
  },
  {
   "attachments": {},
   "cell_type": "markdown",
   "metadata": {
    "pycharm": {
     "name": "#%% md\n"
    }
   },
   "source": [
    "## Pipeline을 정의\n",
    "\n",
    "- 위에서 생성한 step, parameters, condition을 조합하여 한 개의 workflow로 정의\n",
    "- Pipeline 정의시에 구성 요소를 순서대로 나열할 필요없이, DAG 기준으로 순차적으로 진행이 됨\n",
    "\n",
    "![E](./img/pipeline-7.png)\n"
   ]
  },
  {
   "cell_type": "code",
   "execution_count": null,
   "metadata": {
    "pycharm": {
     "name": "#%%\n"
    }
   },
   "outputs": [],
   "source": [
    "from sagemaker.workflow.pipeline import Pipeline\n",
    "\n",
    "\n",
    "pipeline_name = f\"AbalonePipeline\"\n",
    "pipeline = Pipeline(\n",
    "    name=pipeline_name,\n",
    "    parameters=[\n",
    "        processing_instance_count,\n",
    "        instance_type,\n",
    "        model_approval_status,\n",
    "        input_data,\n",
    "        batch_data,\n",
    "        mse_threshold,\n",
    "    ],\n",
    "    steps=[step_process, step_train, step_eval, step_cond],\n",
    "    # step_eval 다음에 조건문에 따라서 어떤 step이 실행될지가 결정되기 때문에\n",
    "    # step_eval다음엔 step_cond가 와야하고,\n",
    "    # step_cond 에서\n",
    "    #   if_steps=[step_register, step_create_model, step_transform],\n",
    "    #   else_steps=[step_fail],  # 조건이 만족하지 않을 경우 실행할 step을 정의합니다.\n",
    "    # 가 알아서 조건에 맞게 실행된다.\n",
    ")"
   ]
  },
  {
   "attachments": {},
   "cell_type": "markdown",
   "metadata": {
    "pycharm": {
     "name": "#%% md\n"
    }
   },
   "source": [
    "## Pipeline 확인\n",
    "\n",
    "Pipeline의 define된 정보를 json 형태로 조회 가능하여 올바르게 구현했는지 여부를 검토\n"
   ]
  },
  {
   "cell_type": "code",
   "execution_count": null,
   "metadata": {
    "pycharm": {
     "name": "#%%\n"
    }
   },
   "outputs": [],
   "source": [
    "import json\n",
    "\n",
    "\n",
    "definition = json.loads(pipeline.definition())\n",
    "definition"
   ]
  },
  {
   "attachments": {},
   "cell_type": "markdown",
   "metadata": {
    "pycharm": {
     "name": "#%% md\n"
    }
   },
   "source": [
    "## Pipeline을 sagemaker에 등록 및 실행\n",
    "\n",
    "- 정의된 pipeline을 sagemaker에 submit 진행\n",
    "- sagemaker는 해당 pipeline의 필요한 작업을 생성\n"
   ]
  },
  {
   "cell_type": "code",
   "execution_count": null,
   "metadata": {
    "pycharm": {
     "name": "#%%\n"
    }
   },
   "outputs": [],
   "source": [
    "pipeline.upsert(role_arn=role)"
   ]
  },
  {
   "attachments": {},
   "cell_type": "markdown",
   "metadata": {
    "pycharm": {
     "name": "#%% md\n"
    }
   },
   "source": [
    "Pipeline 실행\n"
   ]
  },
  {
   "cell_type": "code",
   "execution_count": null,
   "metadata": {
    "pycharm": {
     "name": "#%%\n"
    }
   },
   "outputs": [],
   "source": [
    "execution = pipeline.start()"
   ]
  },
  {
   "attachments": {},
   "cell_type": "markdown",
   "metadata": {
    "pycharm": {
     "name": "#%% md\n"
    }
   },
   "source": [
    "## 파이프라인 작업: 파이프라인 실행 검사 및 대기\n",
    "\n",
    "Pipeline 정보를 조회하거나 대기 설정을 진행\n"
   ]
  },
  {
   "cell_type": "code",
   "execution_count": null,
   "metadata": {
    "pycharm": {
     "name": "#%%\n"
    }
   },
   "outputs": [],
   "source": [
    "execution.describe()"
   ]
  },
  {
   "cell_type": "code",
   "execution_count": null,
   "metadata": {
    "pycharm": {
     "name": "#%%\n"
    }
   },
   "outputs": [],
   "source": [
    "execution.wait()"
   ]
  },
  {
   "attachments": {},
   "cell_type": "markdown",
   "metadata": {
    "pycharm": {
     "name": "#%% md\n"
    }
   },
   "source": [
    "실행되었던 pipeline list를 조회\n"
   ]
  },
  {
   "cell_type": "code",
   "execution_count": null,
   "metadata": {
    "pycharm": {
     "name": "#%%\n"
    }
   },
   "outputs": [],
   "source": [
    "execution.list_steps()"
   ]
  },
  {
   "attachments": {},
   "cell_type": "markdown",
   "metadata": {
    "pycharm": {
     "name": "#%% md\n"
    }
   },
   "source": [
    "### Pipeline 결과 검토\n",
    "\n",
    "Pipeline 이 완료되면 모델 평가를 검토한다. S3에서 생성된 evaluation.json 파일을 확인\n"
   ]
  },
  {
   "cell_type": "code",
   "execution_count": null,
   "metadata": {
    "pycharm": {
     "name": "#%%\n"
    }
   },
   "outputs": [],
   "source": [
    "from pprint import pprint\n",
    "\n",
    "\n",
    "evaluation_json = sagemaker.s3.S3Downloader.read_file(\n",
    "    \"{}/evaluation.json\".format(\n",
    "        step_eval.arguments[\"ProcessingOutputConfig\"][\"Outputs\"][0][\"S3Output\"][\"S3Uri\"]\n",
    "    )\n",
    ")\n",
    "pprint(json.loads(evaluation_json))"
   ]
  },
  {
   "attachments": {},
   "cell_type": "markdown",
   "metadata": {
    "pycharm": {
     "name": "#%% md\n"
    }
   },
   "source": [
    "### Lineage\n"
   ]
  },
  {
   "cell_type": "code",
   "execution_count": null,
   "metadata": {
    "pycharm": {
     "name": "#%%\n"
    }
   },
   "outputs": [],
   "source": [
    "import time\n",
    "from sagemaker.lineage.visualizer import LineageTableVisualizer\n",
    "\n",
    "\n",
    "viz = LineageTableVisualizer(sagemaker.session.Session())\n",
    "for execution_step in reversed(execution.list_steps()):\n",
    "    print(execution_step)\n",
    "    display(viz.show(pipeline_execution_step=execution_step))\n",
    "    time.sleep(5)"
   ]
  },
  {
   "attachments": {},
   "cell_type": "markdown",
   "metadata": {
    "pycharm": {
     "name": "#%% md\n"
    }
   },
   "source": [
    "### Parametrized 실행\n",
    "\n",
    "1. Pipeline을 추가 실행하고 다른 Pipeline의 parameter를 지정 가능.\n",
    "   아래와 같이 Model Approval Status를 approval로 설정하면, RegisterModel 단계에서 생성된 Model package가 자동으로 CI/CD Pipeline을 통해 자동으로 배포 준비가 완료.\n"
   ]
  },
  {
   "cell_type": "code",
   "execution_count": null,
   "metadata": {
    "pycharm": {
     "name": "#%%\n"
    }
   },
   "outputs": [],
   "source": [
    "execution = pipeline.start(\n",
    "    parameters=dict(\n",
    "        ModelApprovalStatus=\"Approved\",\n",
    "    )\n",
    ")\n",
    "execution.wait()\n",
    "execution.list_steps()"
   ]
  },
  {
   "attachments": {},
   "cell_type": "markdown",
   "metadata": {
    "pycharm": {
     "name": "#%% md\n"
    }
   },
   "source": [
    "2. MSE 임계값을 조정하여 모델 정확도 기준을 높이고 싶을 경우 활용할 수 있음. faile step은 try/except로 처리하여 출력\n"
   ]
  },
  {
   "cell_type": "code",
   "execution_count": null,
   "metadata": {
    "pycharm": {
     "name": "#%%\n"
    }
   },
   "outputs": [],
   "source": [
    "execution = pipeline.start(parameters=dict(MseThreshold=3.0))\n",
    "try:\n",
    "    execution.wait()\n",
    "except Exception as error:\n",
    "    print(error)\n",
    "execution.list_steps()"
   ]
  }
 ],
 "metadata": {
  "instance_type": "ml.t3.medium",
  "kernelspec": {
   "display_name": "Python 3 (ipykernel)",
   "language": "python",
   "name": "python3"
  },
  "language_info": {
   "codemirror_mode": {
    "name": "ipython",
    "version": 3
   },
   "file_extension": ".py",
   "mimetype": "text/x-python",
   "name": "python",
   "nbconvert_exporter": "python",
   "pygments_lexer": "ipython3",
   "version": "3.10.13"
  }
 },
 "nbformat": 4,
 "nbformat_minor": 4
}
