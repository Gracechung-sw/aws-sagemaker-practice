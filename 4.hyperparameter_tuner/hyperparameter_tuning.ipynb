{
 "cells": [
  {
   "cell_type": "markdown",
   "id": "30c7d83d",
   "metadata": {},
   "source": [
    "# Hyperparameter Tuning with the SageMaker TensorFlow Container\n",
    "\n",
    "This tutorial focuses on how to create a convolutional neural network model to train the MNIST dataset using the SageMaker TensorFlow container. It leverages hyperparameter tuning to run multiple training jobs with different hyperparameter combinations, to find the one with the best model training result.\n"
   ]
  },
  {
   "cell_type": "markdown",
   "id": "1adef0bc",
   "metadata": {},
   "source": [
    "## 개요\n",
    "\n",
    "- [작업 실행 시 필요한 라이브러리 import](#작업-실행-시-필요한-라이브러리-import)\n",
    "- [SageMaker 세션과 Role, 사용 버킷 정의](#sagemaker-세션과-role-사용-버킷-정의)\n",
    "- [학습에 사용할 데이터 준비](#학습에-사용할-데이터-준비)\n",
    "- [Run a TensorFlow Training Job](#run-a-tensorflow-training-job)\n",
    "- [Run a Hyperparameter Tuning Job](#run-a-hyperparameter-tuning-job)\n",
    "\n",
    "## Reference\n",
    "\n",
    "- https://sagemaker-examples.readthedocs.io/en/latest/hyperparameter_tuning/tensorflow2_mnist/hpo_tensorflow2_mnist_outputs.html\n"
   ]
  },
  {
   "cell_type": "markdown",
   "id": "152c3338",
   "metadata": {},
   "source": [
    "### 작업 실행 시 필요한 라이브러리 import\n"
   ]
  },
  {
   "cell_type": "code",
   "execution_count": null,
   "id": "54e210cc",
   "metadata": {},
   "outputs": [],
   "source": [
    "import sys\n",
    "!{sys.executable} -m pip install --upgrade pip\n",
    "!{sys.executable} -m pip install --upgrade boto3\n",
    "!{sys.executable} -m pip install --upgrade sagemaker\n",
    "!{sys.executable} -m pip install --upgrade tensorflow"
   ]
  },
  {
   "cell_type": "code",
   "execution_count": null,
   "id": "9d498917",
   "metadata": {},
   "outputs": [],
   "source": [
    "import boto3\n",
    "import sagemaker"
   ]
  },
  {
   "cell_type": "markdown",
   "id": "9546afe1",
   "metadata": {},
   "source": [
    "### SageMaker 세션과 Role, 사용 버킷 정의\n"
   ]
  },
  {
   "cell_type": "code",
   "execution_count": null,
   "id": "01b0b892-37ba-4d74-9a17-65b1295c50de",
   "metadata": {},
   "outputs": [],
   "source": [
    "sagemaker_session = sagemaker.session.Session()\n",
    "boto_session = boto3.Session()\n",
    "\n",
    "role = sagemaker.get_execution_role()\n",
    "# SageMaker사용시 log, model artifact 등의 저장을 위해 default로 지정되는 s3를 사용할 수도 있고,\n",
    "# 아니면 직접 s3 세팅해서 이걸 사용하라고 지정해 줄 수도 있습니다.\n",
    "# 실습에서는 default로 제공되는 s3를 사용해보겠습니다.\n",
    "\n",
    "# default bucket이 아니라 직접 만든 s3 bucket을 사용할 수도 있습니다.\n",
    "# 만약 직접 생성한 s3 bucket을 사용할 경우 에러가 난다면 아래의 두 경우일 확률이 높습니다.\n",
    "# 1. bucket이 없는 경우. 즉, bucket을 생성하지 않았는데 그 bucket을 사용하려고 하는 경우\n",
    "# 2. bucket을 생성했지만, role에 해당 bucket에 대한 read, write 권한이 없는 경우\n",
    "default_bucket = sagemaker_session.default_bucket()\n",
    "\n",
    "# sagemaker를 사용\n",
    "sm = boto_session.client(\"sagemaker\")\n",
    "region = boto_session.region_name"
   ]
  },
  {
   "cell_type": "markdown",
   "id": "10eb1f53",
   "metadata": {},
   "source": [
    "### 학습에 사용할 데이터 준비\n",
    "\n",
    "Download the MNIST data from a public S3 bucket and save it in a temporary directory.\n"
   ]
  },
  {
   "cell_type": "code",
   "execution_count": null,
   "id": "9b84ddf1-573d-48b7-8e98-4c265cd2e225",
   "metadata": {},
   "outputs": [],
   "source": [
    "import os\n",
    "import boto3\n",
    "\n",
    "public_bucket = f\"sagemaker-example-files-prod-{region}\"\n",
    "local_data_dir = \"/tmp/data\"\n",
    "\n",
    "\n",
    "# Download training and testing data from a public S3 bucket\n",
    "def download_from_s3(data_dir=\"/tmp/data\", train=True):\n",
    "    \"\"\"Download MNIST dataset and convert it to numpy array\n",
    "\n",
    "    Args:\n",
    "        data_dir (str): directory to save the data\n",
    "        train (bool): download training set\n",
    "\n",
    "    Returns:\n",
    "        None\n",
    "    \"\"\"\n",
    "    # project root\n",
    "    if not os.path.exists(data_dir):\n",
    "        os.makedirs(data_dir)\n",
    "\n",
    "    if train:\n",
    "        images_file = \"train-images-idx3-ubyte.gz\"\n",
    "        labels_file = \"train-labels-idx1-ubyte.gz\"\n",
    "    else:\n",
    "        images_file = \"t10k-images-idx3-ubyte.gz\"\n",
    "        labels_file = \"t10k-labels-idx1-ubyte.gz\"\n",
    "\n",
    "    # download objects\n",
    "    s3 = boto3.client(\"s3\")\n",
    "    bucket = public_bucket\n",
    "    for obj in [images_file, labels_file]:\n",
    "        key = os.path.join(\"datasets/image/MNIST\", obj)\n",
    "        dest = os.path.join(data_dir, obj)\n",
    "        if not os.path.exists(dest):\n",
    "            s3.download_file(bucket, key, dest)\n",
    "    return\n",
    "\n",
    "\n",
    "download_from_s3(local_data_dir, True)\n",
    "download_from_s3(local_data_dir, False)"
   ]
  },
  {
   "cell_type": "markdown",
   "id": "3d336647",
   "metadata": {},
   "source": [
    "### Run a TensorFlow Training Job\n"
   ]
  },
  {
   "cell_type": "code",
   "execution_count": null,
   "id": "93e22fba",
   "metadata": {},
   "outputs": [],
   "source": [
    "from sagemaker.tensorflow.estimator import TensorFlow\n",
    "from sagemaker.experiments.run import Run"
   ]
  },
  {
   "cell_type": "code",
   "execution_count": null,
   "id": "370ca19f-6f75-4ab5-aba1-23f8c494898f",
   "metadata": {},
   "outputs": [],
   "source": [
    "# TensorFlow Estimator 생성\n",
    "est = TensorFlow(\n",
    "    entry_point=\"train.py\",  # train.py: 학습에 사용할 코드. 이 코드는 code 폴더에 저장되어 있음\n",
    "    source_dir=\"code\",\n",
    "    role=role,\n",
    "    framework_version=\"2.3.1\",\n",
    "    # model_dir: remote에 있는 instance, 즉 sagemaker instance에 저장되는 model artifact가 저장되는 디렉토리\n",
    "    model_dir=\"/opt/ml/model\",\n",
    "    py_version=\"py37\",\n",
    "    instance_type=\"ml.m5.xlarge\",\n",
    "    instance_count=1,\n",
    "    volume_size=250,  # volue size 지정: 250GB\n",
    "    hyperparameters={\n",
    "        \"batch-size\": 512,\n",
    "        \"epochs\": 4,\n",
    "    },\n",
    ")"
   ]
  },
  {
   "cell_type": "code",
   "execution_count": null,
   "id": "630e65fa-034e-4efb-bb2c-e1e9fb57c222",
   "metadata": {},
   "outputs": [],
   "source": [
    "prefix = \"mnist\"\n",
    "bucket = sagemaker_session.default_bucket()\n",
    "\n",
    "\"\"\"\n",
    "Uploads data from the local directory to an S3 bucket.\n",
    "\n",
    "Args:\n",
    "  local_data_dir (str): The local directory path where the data is located.\n",
    "\n",
    "Returns:\n",
    "  dict: A dictionary containing the S3 bucket location for the training and testing data.\n",
    "\n",
    "\"\"\"\n",
    "loc = sagemaker_session.upload_data(\n",
    "    path=local_data_dir, bucket=bucket, key_prefix=prefix)\n",
    "\n",
    "channels = {\"training\": loc, \"testing\": loc}"
   ]
  },
  {
   "cell_type": "markdown",
   "id": "c8ae03be",
   "metadata": {},
   "source": [
    "### Run a Hyperparameter Tuning Job\n"
   ]
  },
  {
   "cell_type": "code",
   "execution_count": null,
   "id": "753a86df-8ddd-422e-955a-7e6899ad3fe9",
   "metadata": {},
   "outputs": [],
   "source": [
    "# Hyperparameter Tuning\n",
    "# Hyperparameter tuning을 위한 parameter range 설정\n",
    "from sagemaker.tuner import ContinuousParameter, HyperparameterTuner\n",
    "\n",
    "# learning rate를 1e-4 ~ 1e-3 사이의 값으로 설정\n",
    "hyperparameter_range = {\"learning-rate\": ContinuousParameter(1e-4, 1e-3)}"
   ]
  },
  {
   "cell_type": "code",
   "execution_count": null,
   "id": "c10a6615-84ba-45d2-8f8c-749d7a9ebeec",
   "metadata": {},
   "outputs": [],
   "source": [
    "objective_metric_name = \"average test loss\"\n",
    "# metic을 어떤 정책을 기반으로 최적화 할 것인지 설정\n",
    "objective_type = \"Minimize\"  # 만약 average test loss를 높이고 싶으면 Maximize로 설정\n",
    "\n",
    "metric_definitions = [\n",
    "    {\n",
    "        \"Name\": \"average test loss\",\n",
    "        \"Regex\": \"Test Loss: ([0-9\\\\.]+)\",\n",
    "    }\n",
    "]"
   ]
  },
  {
   "cell_type": "code",
   "execution_count": null,
   "id": "55a5a9b8-0ffb-41f4-aa3f-de5f6e32dcf4",
   "metadata": {},
   "outputs": [],
   "source": [
    "tuner = HyperparameterTuner(\n",
    "    est,\n",
    "    objective_metric_name,\n",
    "    hyperparameter_range,\n",
    "    metric_definitions,\n",
    "    max_jobs=3,\n",
    "    max_parallel_jobs=3,\n",
    "    objective_type=objective_type\n",
    ")\n",
    "\n",
    "tuner.fit(inputs=channels)"
   ]
  },
  {
   "cell_type": "code",
   "execution_count": null,
   "id": "e359fb4a-ad25-4a22-8058-d594397b6a1d",
   "metadata": {},
   "outputs": [],
   "source": []
  }
 ],
 "metadata": {
  "kernelspec": {
   "display_name": "Python 3 (ipykernel)",
   "language": "python",
   "name": "python3"
  },
  "language_info": {
   "codemirror_mode": {
    "name": "ipython",
    "version": 3
   },
   "file_extension": ".py",
   "mimetype": "text/x-python",
   "name": "python",
   "nbconvert_exporter": "python",
   "pygments_lexer": "ipython3",
   "version": "3.10.13"
  }
 },
 "nbformat": 4,
 "nbformat_minor": 5
}
