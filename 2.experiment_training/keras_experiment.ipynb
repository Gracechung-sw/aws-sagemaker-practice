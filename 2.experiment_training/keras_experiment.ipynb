{
  "cells": [
    {
      "cell_type": "markdown",
      "id": "30f00eff",
      "metadata": {},
      "source": [
        "# Model Training with Experiments\n",
        "\n",
        "Track an experiment while training a Keras model locally\n"
      ]
    },
    {
      "cell_type": "markdown",
      "id": "61bf57c1",
      "metadata": {},
      "source": [
        "## 개요\n",
        "\n",
        "- [작업 실행 시 필요한 라이브러리 import](#작업-실행-시-필요한-라이브러리-import)\n",
        "- [SageMaker 세션과 Role, 사용 버킷 정의](#sagemaker-세션과-role-사용-버킷-정의)\n",
        "- [모델 학습에 사용될 데이터 준비](#모델-학습에-사용될-데이터-준비)\n",
        "- [모델 구축](#모델-구축)\n",
        "- [SageMaker Experiment(실험) 설정](#sagemaker-experiment실험-설정)\n",
        "  - [Define the Keras callback to log metrics to the run](#define-the-keras-callback-to-log-metrics-to-the-run)\n",
        "  - [Train the model in the notebook and track it in an Experiment](#train-the-model-in-the-notebook-and-track-it-in-an-experiment)\n",
        "\n",
        "## Reference\n",
        "\n",
        "- https://sagemaker-examples.readthedocs.io/en/latest/sagemaker-experiments/local_experiment_tracking/keras_experiment.html\n",
        "\n",
        "- https://sagemaker.readthedocs.io/en/stable/experiments/sagemaker.experiments.html\n"
      ]
    },
    {
      "cell_type": "markdown",
      "id": "e6450308",
      "metadata": {},
      "source": [
        "### 작업 실행 시 필요한 라이브러리 import\n"
      ]
    },
    {
      "cell_type": "code",
      "execution_count": null,
      "id": "acb258ed",
      "metadata": {},
      "outputs": [],
      "source": [
        "import sys"
      ]
    },
    {
      "cell_type": "code",
      "execution_count": null,
      "id": "50deff76-c505-40ed-bad2-969ad010d661",
      "metadata": {},
      "outputs": [],
      "source": [
        "# update boto3 and sagemaker to ensure latest SDK version\n",
        "!{sys.executable} -m pip install --upgrade pip\n",
        "!{sys.executable} -m pip install --upgrade boto3\n",
        "!{sys.executable} -m pip install --upgrade sagemaker\n",
        "!{sys.executable} -m pip install --upgrade tensorflow\n",
        "!{sys.executable} -m pip install protobuf==3.20.3"
      ]
    },
    {
      "cell_type": "code",
      "execution_count": null,
      "id": "69833f64-7028-4822-ac75-920918a5bb3a",
      "metadata": {},
      "outputs": [],
      "source": [
        "import boto3\n",
        "import sagemaker\n",
        "from sagemaker.experiments.run import Run"
      ]
    },
    {
      "cell_type": "markdown",
      "id": "5242a7d6",
      "metadata": {},
      "source": [
        "### SageMaker 세션과 Role, 사용 버킷 정의\n"
      ]
    },
    {
      "cell_type": "code",
      "execution_count": null,
      "id": "0535a673-7e2b-435d-b182-3c7a4f372131",
      "metadata": {},
      "outputs": [],
      "source": [
        "\n",
        "sagemaker_session = sagemaker.session.Session()\n",
        "boto_session = boto3.Session()\n",
        "\n",
        "role = sagemaker.get_execution_role()\n",
        "# SageMaker사용시 log, model artifact 등의 저장을 위해 default로 지정되는 s3를 사용할 수도 있고,\n",
        "# 아니면 직접 s3 세팅해서 이걸 사용하라고 지정해 줄 수도 있습니다.\n",
        "# 실습에서는 default로 제공되는 s3를 사용해보겠습니다.\n",
        "\n",
        "# default bucket이 아니라 직접 만든 s3 bucket을 사용할 수도 있습니다.\n",
        "# 만약 직접 생성한 s3 bucket을 사용할 경우 에러가 난다면 아래의 두 경우일 확률이 높습니다.\n",
        "# 1. bucket이 없는 경우. 즉, bucket을 생성하지 않았는데 그 bucket을 사용하려고 하는 경우\n",
        "# 2. bucket을 생성했지만, role에 해당 bucket에 대한 read, write 권한이 없는 경우\n",
        "default_bucket = sagemaker_session.default_bucket()\n",
        "\n",
        "# sagemaker를 사용\n",
        "sm = boto_session.client(\"sagemaker\")\n",
        "region = boto_session.region_name"
      ]
    },
    {
      "cell_type": "code",
      "execution_count": null,
      "id": "d8d86ae7-7e44-494a-975a-635de5901467",
      "metadata": {},
      "outputs": [],
      "source": [
        "print(sagemaker_session)\n",
        "print(role)\n",
        "print(default_bucket)\n",
        "print(sm)\n",
        "print(region)  # ex) us-east-2"
      ]
    },
    {
      "cell_type": "markdown",
      "id": "72e04e58",
      "metadata": {},
      "source": [
        "### 모델 학습에 사용될 데이터 준비\n",
        "\n",
        "Here we use the mnist dataset available with Keras\n"
      ]
    },
    {
      "cell_type": "code",
      "execution_count": null,
      "id": "776f955a-cf34-4ad1-8c77-1afb016a51b7",
      "metadata": {},
      "outputs": [],
      "source": [
        "import numpy as np\n",
        "from tensorflow import keras\n",
        "from tensorflow.keras import layers\n",
        "import pandas as pd"
      ]
    },
    {
      "cell_type": "code",
      "execution_count": null,
      "id": "49545520-4c1c-4e5c-a71a-95b0c0033d11",
      "metadata": {},
      "outputs": [],
      "source": [
        "!mkdir -p datasets"
      ]
    },
    {
      "cell_type": "code",
      "execution_count": null,
      "id": "e1e96d94-60e1-49e8-9a31-658df19e644a",
      "metadata": {},
      "outputs": [],
      "source": [
        "\n",
        "s3 = boto3.client('s3')\n",
        "\n",
        "train_path = \"datasets/input_train.npy\"\n",
        "test_path = \"datasets/input_test.npy\"\n",
        "train_labels_path = \"datasets/input_train_labels.npy\"\n",
        "test_labels_path = \"datasets/input_test_labels.npy\"\n",
        "\n",
        "\n",
        "s3.download_file(\n",
        "    f\"sagemaker-example-files-prod-{region}\",  # AWS에서 기본으로 제공하는 s3 버킷과 데이터이다.\n",
        "    \"datasets/image/MNIST/numpy/input_train.npy\",\n",
        "    train_path,\n",
        ")\n",
        "s3.download_file(\n",
        "    f\"sagemaker-example-files-prod-{\n",
        "        region}\", \"datasets/image/MNIST/numpy/input_test.npy\", test_path\n",
        ")\n",
        "s3.download_file(\n",
        "    f\"sagemaker-example-files-prod-{region}\",\n",
        "    \"datasets/image/MNIST/numpy/input_train_labels.npy\",\n",
        "    train_labels_path,\n",
        ")\n",
        "s3.download_file(\n",
        "    f\"sagemaker-example-files-prod-{region}\",\n",
        "    \"datasets/image/MNIST/numpy/input_test_labels.npy\",\n",
        "    test_labels_path,\n",
        ")"
      ]
    },
    {
      "cell_type": "code",
      "execution_count": null,
      "id": "49eec7ee-1cab-4824-8d70-7a90488a14bd",
      "metadata": {},
      "outputs": [],
      "source": [
        "x_train = np.load(train_path)\n",
        "x_test = np.load(test_path)\n",
        "y_train = np.load(train_labels_path)\n",
        "y_test = np.load(test_labels_path)\n",
        "\n",
        "# 아래 부분은 DeepLearning을 위해서 하는 처리라서 연구팀(Machine Learning Engineer, Researcher 분들이 해주시는 부분이라고 생각하면 됩니다.)\n",
        "# 따라서 자세히 적거나 완벽히 이해하려고는 하지 않겠습니다.\n",
        "# Reshape the arrays\n",
        "x_train = np.reshape(x_train, (60000, 28, 28))\n",
        "x_test = np.reshape(x_test, (10000, 28, 28))\n",
        "y_train = np.reshape(y_train, (60000,))\n",
        "y_test = np.reshape(y_test, (10000,))\n",
        "\n",
        "# Scale images to the [0, 1] range\n",
        "x_train = x_train.astype(\"float32\") / 255\n",
        "x_test = x_test.astype(\"float32\") / 255\n",
        "\n",
        "# Make sure images have shape (28, 28, 1)\n",
        "x_train = np.expand_dims(x_train, -1)\n",
        "x_test = np.expand_dims(x_test, -1)\n",
        "\n",
        "print(\"x_train shape:\", x_train.shape)\n",
        "print(x_train.shape[0], \"train samples\")\n",
        "print(x_test.shape[0], \"test samples\")"
      ]
    },
    {
      "cell_type": "code",
      "execution_count": null,
      "id": "51190569-908b-4c0d-89a2-dc1e2015e8d4",
      "metadata": {},
      "outputs": [],
      "source": [
        "# convert class vectors to binary class matrices\n",
        "\n",
        "num_classes = 10\n",
        "\n",
        "y_train = keras.utils.to_categorical(y_train, num_classes)\n",
        "y_test = keras.utils.to_categorical(y_test, num_classes)"
      ]
    },
    {
      "cell_type": "code",
      "execution_count": null,
      "id": "e9e21823-b292-40fc-a53c-ed7aeea73976",
      "metadata": {},
      "outputs": [],
      "source": [
        "input_shape = (28, 28, 1)"
      ]
    },
    {
      "cell_type": "markdown",
      "id": "14a0039d",
      "metadata": {},
      "source": [
        "### 모델 구축\n"
      ]
    },
    {
      "cell_type": "code",
      "execution_count": null,
      "id": "5549423c-9468-4d9a-b854-08ad28bf1493",
      "metadata": {},
      "outputs": [],
      "source": [
        "\n",
        "def get_model(dropout=0.5):\n",
        "    \"\"\"\n",
        "    This function returns a Keras model for image classification.\n",
        "\n",
        "    Parameters:\n",
        "    - dropout (float): The dropout rate for the Dropout layer. Default is 0.5.\n",
        "\n",
        "    Returns:\n",
        "    - model (keras.Sequential): The compiled Keras model.\n",
        "\n",
        "    \"\"\"\n",
        "    model = keras.Sequential(\n",
        "        [\n",
        "            keras.Input(shape=input_shape),\n",
        "            layers.Conv2D(32, kernel_size=(3, 3), activation=\"relu\"),\n",
        "            layers.MaxPooling2D(pool_size=(2, 2)),\n",
        "            layers.Conv2D(64, kernel_size=(3, 3), activation=\"relu\"),\n",
        "            layers.MaxPooling2D(pool_size=(2, 2)),\n",
        "            layers.Flatten(),\n",
        "            layers.Dropout(dropout),\n",
        "            layers.Dense(num_classes, activation=\"softmax\"),\n",
        "        ]\n",
        "    )\n",
        "\n",
        "    model.compile(loss=\"categorical_crossentropy\",\n",
        "                  optimizer=\"adam\", metrics=[\"accuracy\"])\n",
        "\n",
        "    return model"
      ]
    },
    {
      "cell_type": "code",
      "execution_count": null,
      "id": "2056018c-db99-41c9-89ce-7afbd659881a",
      "metadata": {},
      "outputs": [],
      "source": [
        "\n",
        "batch_size = 256\n",
        "epochs = 8\n",
        "dropout = 0.3\n",
        "\n",
        "model = get_model(dropout)"
      ]
    },
    {
      "cell_type": "markdown",
      "id": "8f53cbc7",
      "metadata": {},
      "source": [
        "### SageMaker Experiment(실험) 설정\n"
      ]
    },
    {
      "cell_type": "code",
      "execution_count": null,
      "id": "76f90fba-7e9e-45dd-b6c8-98e88afe3bfc",
      "metadata": {},
      "outputs": [],
      "source": [
        "# sagemaker에서 제공하는 Experiment를 선언하고, initialize an experiment run for tracking a training job with Run().\n",
        "\n",
        "experiment_name = \"local-keras-experiment\""
      ]
    },
    {
      "cell_type": "markdown",
      "id": "4d58d442",
      "metadata": {},
      "source": [
        "#### Define the Keras callback to log metrics to the run\n"
      ]
    },
    {
      "cell_type": "code",
      "execution_count": null,
      "id": "e5a04247-94a2-47c7-8ecc-47b106107133",
      "metadata": {},
      "outputs": [],
      "source": [
        "# Define the Keras callback to log metrics to the run\n",
        "# The Keras Callback class provides a method on_epoch_end which emits metrics at the end of each epoch.\n",
        "# All emitted metrics will be logged in the run passed to the callback.\n",
        "class ExperimentCallback(keras.callbacks.Callback):\n",
        "    def __init__(self, run, trained_model, x_test, y_test):\n",
        "        self.run = run\n",
        "        self.trained_model = trained_model\n",
        "        self.x_test = x_test\n",
        "        self.y_test = y_test\n",
        "\n",
        "    def on_epoch_end(self, epoch, logs=None):\n",
        "        keys = list(logs.keys())\n",
        "        for key in keys:\n",
        "            self.run.log_metric(name=key, value=logs[key], step=epoch)\n",
        "            print(\"{} -> {}\".format(key, logs[key]))"
      ]
    },
    {
      "cell_type": "markdown",
      "id": "2ef94ae4",
      "metadata": {},
      "source": [
        "#### Train the model in the notebook and track it in an Experiment\n",
        "\n",
        "Here we train the keras model locally on the instance that this notebook is running on.\n"
      ]
    },
    {
      "cell_type": "code",
      "execution_count": null,
      "id": "6cbd7f4b-5922-4123-b278-014032b2e0fe",
      "metadata": {},
      "outputs": [],
      "source": [
        "with Run(experiment_name=experiment_name, sagemaker_session=sagemaker_session) as run:\n",
        "    \"\"\"\n",
        "    Run the experiment with the specified experiment name and SageMaker session.\n",
        "    For more information on the Run class, see the SageMaker Python SDK documentation:\n",
        "        https://sagemaker.readthedocs.io/en/stable/experiments/sagemaker.experiments.html\n",
        "    Parameters:\n",
        "    - experiment_name (str): The name of the experiment.\n",
        "    - sagemaker_session (sagemaker.session.Session): The SageMaker session to use. 이 Run을 어떤 sageMaker에서 실행시키라는 건지 알고, 실행합니다. \n",
        "\n",
        "    Returns:\n",
        "    - run (sagemaker.experiments.run.Run): The experiment run object.\n",
        "\n",
        "    \"\"\"\n",
        "\n",
        "    # log를 남기기 위해 log_parameter에 어떤 parameter를 Log에 남길지 지정해줍니다.\n",
        "    run.log_parameter('batch_size', batch_size)\n",
        "    run.log_parameter('epochs', epochs)\n",
        "    run.log_parameter('dropout', dropout)\n",
        "\n",
        "    # log_file을 써서 아래의 정보들을 저장합니다.\n",
        "    run.log_file(\"datasets/input_train.npy\", is_output=False)\n",
        "    run.log_file(\"datasets/input_test.npy\", is_output=False)\n",
        "    run.log_file(\"datasets/input_train_labels.npy\", is_output=False)\n",
        "    run.log_file(\"datasets/input_test_labels.npy\", is_output=False)\n",
        "\n",
        "    # Train the keras model locally on the instance that this notebook is running on.\n",
        "    model.fit(\n",
        "        x_train,\n",
        "        y_train,\n",
        "        batch_size=batch_size,\n",
        "        epochs=epochs,\n",
        "        validation_split=0.1,\n",
        "        # 이 callback은 epoch 끝날 때마다 callback함수가 실행되도록 합니다.\n",
        "        # 이렇게 해주면 Epoch를 기준으로 뭔가를 하고 싶을 때 매우 유용합니다.\n",
        "        callbacks=[ExperimentCallback(run, model, x_test, y_test)],\n",
        "    )\n",
        "\n",
        "    # fit이 완료되면 evaluate한다.\n",
        "    score = model.evaluate(x_test, y_test)\n",
        "\n",
        "    print(\"test loss : \", score[0])\n",
        "    print(\"test accuracy : \", score[1])\n",
        "\n",
        "    # 저장할 log metri을 지정합니다.\n",
        "    run.log_metric(name=\"Loss on test data\", value=score[0])\n",
        "    run.log_metric(name=\"Accuracy on test data \", value=score[1])"
      ]
    },
    {
      "cell_type": "code",
      "execution_count": null,
      "id": "558d2e94-e7ba-4d7e-8bcc-7b28b3adac08",
      "metadata": {},
      "outputs": [],
      "source": []
    }
  ],
  "metadata": {
    "kernelspec": {
      "display_name": "Python (Pyodide)",
      "language": "python",
      "name": "python"
    },
    "language_info": {
      "codemirror_mode": {
        "name": "python",
        "version": 3
      },
      "file_extension": ".py",
      "mimetype": "text/x-python",
      "name": "python",
      "nbconvert_exporter": "python",
      "pygments_lexer": "ipython3",
      "version": "3.8"
    }
  },
  "nbformat": 4,
  "nbformat_minor": 5
}
