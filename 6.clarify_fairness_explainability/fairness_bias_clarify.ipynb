{
 "cells": [
  {
   "cell_type": "markdown",
   "id": "ade12d12",
   "metadata": {},
   "source": [
    "# Fairness and Explainability with SageMaker Clarify\n",
    "\n",
    "This notebook takes approximately 30 minutes to run.\n"
   ]
  },
  {
   "cell_type": "markdown",
   "id": "d07f406c",
   "metadata": {},
   "source": [
    "## 개요\n",
    "\n",
    "- [Initialize SageMaker](#initialize-sagemaker)\n",
    "- [Download data](#download-data)\n",
    "- [Data Preprocessing](#data-preprocessing)\n",
    "- [Train XGBoost Model](#train-xgboost-model)\n",
    "- [Clarify 정의해서 Fairness와 Explainability 분석](#clarify-정의해서-fairness와-explainability-분석)\n",
    "\n",
    "## Reference\n",
    "\n",
    "- https://sagemaker-examples.readthedocs.io/en/latest/sagemaker-clarify/fairness_and_explainability/fairness_and_explainability_outputs.html\n"
   ]
  },
  {
   "cell_type": "markdown",
   "id": "007709ba",
   "metadata": {},
   "source": [
    "### Initialize SageMaker\n"
   ]
  },
  {
   "cell_type": "code",
   "execution_count": null,
   "id": "27afd420",
   "metadata": {},
   "outputs": [],
   "source": [
    "import sys\n",
    "!{sys.executable} -m pip uninstall -y sagemaker\n",
    "!{sys.executable} -m pip install --upgrade pip\n",
    "!{sys.executable} -m pip install --upgrade boto3 --no-cache-dir\n",
    "!{sys.executable} -m pip install --upgrade sagemaker==2.123.0 --no-cache-dir"
   ]
  },
  {
   "cell_type": "code",
   "execution_count": null,
   "id": "713eba58-5769-44f4-bc0e-dda7ebdce879",
   "metadata": {},
   "outputs": [],
   "source": [
    "from sagemaker import Session\n",
    "from sagemaker import get_execution_role\n",
    "import pandas as pd\n",
    "import numpy as np\n",
    "import os\n",
    "import boto3\n",
    "from datetime import datetime\n",
    "\n",
    "\n",
    "session = Session()\n",
    "default_bucket = session.default_bucket()\n",
    "default_prefix = \"sagemaker/fairness_bias_clarify\"\n",
    "region = session.boto_region_name\n",
    "\n",
    "role = get_execution_role()\n",
    "s3_client = boto3.client(\"s3\")"
   ]
  },
  {
   "cell_type": "code",
   "execution_count": 3,
   "id": "1463073d-f37d-4f07-9d44-238184ca998c",
   "metadata": {},
   "outputs": [
    {
     "name": "stdout",
     "output_type": "stream",
     "text": [
      "<sagemaker.session.Session object at 0x7f04bb91d3c0>\n",
      "us-east-2\n",
      "arn:aws:iam::767397847434:role/service-role/AmazonSageMaker-ExecutionRole-20240111T201222\n"
     ]
    }
   ],
   "source": [
    "print(session)\n",
    "print(region)\n",
    "print(role)"
   ]
  },
  {
   "cell_type": "markdown",
   "id": "e3d9fa9f",
   "metadata": {},
   "source": [
    "### Download data\n",
    "\n",
    "Data Source: https://archive.ics.uci.edu/ml/machine-learning-databases/adult/\n"
   ]
  },
  {
   "cell_type": "code",
   "execution_count": null,
   "id": "fb5ff674-2e9f-489e-af8c-1a705bacc8fa",
   "metadata": {},
   "outputs": [],
   "source": [
    "adult_columns = [\n",
    "    \"Age\",\n",
    "    \"Workclass\",\n",
    "    \"fnlwgt\",\n",
    "    \"Education\",\n",
    "    \"Education-Num\",\n",
    "    \"Marital Status\",\n",
    "    \"Occupation\",\n",
    "    \"Relationship\",\n",
    "    \"Ethnic group\",\n",
    "    \"Sex\",\n",
    "    \"Capital Gain\",\n",
    "    \"Capital Loss\",\n",
    "    \"Hours per week\",\n",
    "    \"Country\",\n",
    "    \"Target\",\n",
    "]\n",
    "if not os.path.isfile(\"adult.data\"):\n",
    "    s3_client.download_file(\n",
    "        f\"sagemaker-example-files-prod-{session.boto_region_name}\",\n",
    "        \"datasets/tabular/uci_adult/adult.data\",\n",
    "        \"adult.data\",\n",
    "    )\n",
    "    print(\"adult.data saved!\")\n",
    "else:\n",
    "    print(\"adult.data already on disk.\")\n",
    "\n",
    "if not os.path.isfile(\"adult.test\"):\n",
    "    s3_client.download_file(\n",
    "        f\"sagemaker-example-files-prod-{session.boto_region_name}\",\n",
    "        \"datasets/tabular/uci_adult/adult.test\",\n",
    "        \"adult.test\",\n",
    "    )\n",
    "    print(\"adult.test saved!\")\n",
    "else:\n",
    "    print(\"adult.test already on disk.\")"
   ]
  },
  {
   "cell_type": "code",
   "execution_count": 5,
   "id": "d6e8d2da-2fdb-4548-a44e-7e653f1be0e8",
   "metadata": {},
   "outputs": [],
   "source": [
    "import os\n",
    "from sagemaker.session import Session\n",
    "from sagemaker import get_execution_role\n",
    "from sagemaker.experiments.run import Run\n",
    "\n",
    "\n",
    "role = get_execution_role()\n",
    "sagemaker_session = Session()\n",
    "\n",
    "experiment_name = \"fairness-bias-clarify-{}\".format(\n",
    "    datetime.now().strftime(\"%d-%m-%Y-%H-%M-%S\"))"
   ]
  },
  {
   "cell_type": "code",
   "execution_count": 6,
   "id": "73a85060-e223-4ba3-9cb8-8cc058950b82",
   "metadata": {},
   "outputs": [
    {
     "data": {
      "text/html": [
       "<div>\n",
       "<style scoped>\n",
       "    .dataframe tbody tr th:only-of-type {\n",
       "        vertical-align: middle;\n",
       "    }\n",
       "\n",
       "    .dataframe tbody tr th {\n",
       "        vertical-align: top;\n",
       "    }\n",
       "\n",
       "    .dataframe thead th {\n",
       "        text-align: right;\n",
       "    }\n",
       "</style>\n",
       "<table border=\"1\" class=\"dataframe\">\n",
       "  <thead>\n",
       "    <tr style=\"text-align: right;\">\n",
       "      <th></th>\n",
       "      <th>Age</th>\n",
       "      <th>Workclass</th>\n",
       "      <th>fnlwgt</th>\n",
       "      <th>Education</th>\n",
       "      <th>Education-Num</th>\n",
       "      <th>Marital Status</th>\n",
       "      <th>Occupation</th>\n",
       "      <th>Relationship</th>\n",
       "      <th>Ethnic group</th>\n",
       "      <th>Sex</th>\n",
       "      <th>Capital Gain</th>\n",
       "      <th>Capital Loss</th>\n",
       "      <th>Hours per week</th>\n",
       "      <th>Country</th>\n",
       "      <th>Target</th>\n",
       "    </tr>\n",
       "  </thead>\n",
       "  <tbody>\n",
       "    <tr>\n",
       "      <th>0</th>\n",
       "      <td>39</td>\n",
       "      <td>State-gov</td>\n",
       "      <td>77516</td>\n",
       "      <td>Bachelors</td>\n",
       "      <td>13</td>\n",
       "      <td>Never-married</td>\n",
       "      <td>Adm-clerical</td>\n",
       "      <td>Not-in-family</td>\n",
       "      <td>White</td>\n",
       "      <td>Male</td>\n",
       "      <td>2174</td>\n",
       "      <td>0</td>\n",
       "      <td>40</td>\n",
       "      <td>United-States</td>\n",
       "      <td>&lt;=50K</td>\n",
       "    </tr>\n",
       "    <tr>\n",
       "      <th>1</th>\n",
       "      <td>50</td>\n",
       "      <td>Self-emp-not-inc</td>\n",
       "      <td>83311</td>\n",
       "      <td>Bachelors</td>\n",
       "      <td>13</td>\n",
       "      <td>Married-civ-spouse</td>\n",
       "      <td>Exec-managerial</td>\n",
       "      <td>Husband</td>\n",
       "      <td>White</td>\n",
       "      <td>Male</td>\n",
       "      <td>0</td>\n",
       "      <td>0</td>\n",
       "      <td>13</td>\n",
       "      <td>United-States</td>\n",
       "      <td>&lt;=50K</td>\n",
       "    </tr>\n",
       "    <tr>\n",
       "      <th>2</th>\n",
       "      <td>38</td>\n",
       "      <td>Private</td>\n",
       "      <td>215646</td>\n",
       "      <td>HS-grad</td>\n",
       "      <td>9</td>\n",
       "      <td>Divorced</td>\n",
       "      <td>Handlers-cleaners</td>\n",
       "      <td>Not-in-family</td>\n",
       "      <td>White</td>\n",
       "      <td>Male</td>\n",
       "      <td>0</td>\n",
       "      <td>0</td>\n",
       "      <td>40</td>\n",
       "      <td>United-States</td>\n",
       "      <td>&lt;=50K</td>\n",
       "    </tr>\n",
       "    <tr>\n",
       "      <th>3</th>\n",
       "      <td>53</td>\n",
       "      <td>Private</td>\n",
       "      <td>234721</td>\n",
       "      <td>11th</td>\n",
       "      <td>7</td>\n",
       "      <td>Married-civ-spouse</td>\n",
       "      <td>Handlers-cleaners</td>\n",
       "      <td>Husband</td>\n",
       "      <td>Black</td>\n",
       "      <td>Male</td>\n",
       "      <td>0</td>\n",
       "      <td>0</td>\n",
       "      <td>40</td>\n",
       "      <td>United-States</td>\n",
       "      <td>&lt;=50K</td>\n",
       "    </tr>\n",
       "    <tr>\n",
       "      <th>4</th>\n",
       "      <td>28</td>\n",
       "      <td>Private</td>\n",
       "      <td>338409</td>\n",
       "      <td>Bachelors</td>\n",
       "      <td>13</td>\n",
       "      <td>Married-civ-spouse</td>\n",
       "      <td>Prof-specialty</td>\n",
       "      <td>Wife</td>\n",
       "      <td>Black</td>\n",
       "      <td>Female</td>\n",
       "      <td>0</td>\n",
       "      <td>0</td>\n",
       "      <td>40</td>\n",
       "      <td>Cuba</td>\n",
       "      <td>&lt;=50K</td>\n",
       "    </tr>\n",
       "  </tbody>\n",
       "</table>\n",
       "</div>"
      ],
      "text/plain": [
       "   Age         Workclass  fnlwgt  Education  Education-Num  \\\n",
       "0   39         State-gov   77516  Bachelors             13   \n",
       "1   50  Self-emp-not-inc   83311  Bachelors             13   \n",
       "2   38           Private  215646    HS-grad              9   \n",
       "3   53           Private  234721       11th              7   \n",
       "4   28           Private  338409  Bachelors             13   \n",
       "\n",
       "       Marital Status         Occupation   Relationship Ethnic group     Sex  \\\n",
       "0       Never-married       Adm-clerical  Not-in-family        White    Male   \n",
       "1  Married-civ-spouse    Exec-managerial        Husband        White    Male   \n",
       "2            Divorced  Handlers-cleaners  Not-in-family        White    Male   \n",
       "3  Married-civ-spouse  Handlers-cleaners        Husband        Black    Male   \n",
       "4  Married-civ-spouse     Prof-specialty           Wife        Black  Female   \n",
       "\n",
       "   Capital Gain  Capital Loss  Hours per week        Country Target  \n",
       "0          2174             0              40  United-States  <=50K  \n",
       "1             0             0              13  United-States  <=50K  \n",
       "2             0             0              40  United-States  <=50K  \n",
       "3             0             0              40  United-States  <=50K  \n",
       "4             0             0              40           Cuba  <=50K  "
      ]
     },
     "execution_count": 6,
     "metadata": {},
     "output_type": "execute_result"
    }
   ],
   "source": [
    "training_data = pd.read_csv(\n",
    "    \"adult.data\", names=adult_columns, sep=r\"\\s*,\\s*\", engine=\"python\", na_values=\"?\"\n",
    ").dropna()\n",
    "\n",
    "testing_data = pd.read_csv(\n",
    "    \"adult.test\", names=adult_columns, sep=r\"\\s*,\\s*\", engine=\"python\", na_values=\"?\", skiprows=1\n",
    ").dropna()\n",
    "\n",
    "training_data.head()"
   ]
  },
  {
   "cell_type": "markdown",
   "id": "e5572536",
   "metadata": {},
   "source": [
    "### Data Preprocessing\n",
    "\n",
    "Here we encode the training and test data.\n"
   ]
  },
  {
   "cell_type": "code",
   "execution_count": 7,
   "id": "cc962d4a-8d59-4d17-9768-54398fcdc84d",
   "metadata": {},
   "outputs": [],
   "source": [
    "# Data Preprocessing\n",
    "# 해당 코드는 sagemaker 사용법에 대한 코드라기보다 data의 preprocessing을 위한 코드이기때문에 별다른 설명 없이 example에 있는 코드를 가져오겠습니다.\n",
    "from sklearn import preprocessing\n",
    "\n",
    "\n",
    "def number_encode_features(df):\n",
    "    result = df.copy()\n",
    "    encoders = {}\n",
    "    for column in result.columns:\n",
    "        if result.dtypes[column] == object:\n",
    "            encoders[column] = preprocessing.LabelEncoder()\n",
    "            result[column] = encoders[column].fit_transform(\n",
    "                result[column].fillna(\"None\"))\n",
    "    return result, encoders\n",
    "\n",
    "\n",
    "training_data = pd.concat(\n",
    "    [training_data[\"Target\"], training_data.drop([\"Target\"], axis=1)], axis=1)\n",
    "training_data, _ = number_encode_features(training_data)\n",
    "training_data.to_csv(\"train_data.csv\", index=False, header=False)\n",
    "\n",
    "testing_data, _ = number_encode_features(testing_data)\n",
    "test_features = testing_data.drop([\"Target\"], axis=1)\n",
    "test_target = testing_data[\"Target\"]\n",
    "test_features.to_csv(\"test_features.csv\", index=False, header=False)"
   ]
  },
  {
   "cell_type": "code",
   "execution_count": 8,
   "id": "bd13da22-a648-442e-bd5b-3d79bdf1b00a",
   "metadata": {},
   "outputs": [],
   "source": [
    "from sagemaker.s3 import S3Uploader\n",
    "from sagemaker.inputs import TrainingInput\n",
    "\n",
    "train_uri = S3Uploader.upload(\n",
    "    \"train_data.csv\", \"s3://{}/{}\".format(default_bucket, default_prefix))\n",
    "train_input = TrainingInput(train_uri, content_type=\"text/csv\")\n",
    "test_uri = S3Uploader.upload(\n",
    "    \"test_features.csv\", \"s3://{}/{}\".format(default_bucket, default_prefix)\n",
    ")"
   ]
  },
  {
   "cell_type": "markdown",
   "id": "1fae1386",
   "metadata": {},
   "source": [
    "### Train XGBoost Model\n"
   ]
  },
  {
   "cell_type": "code",
   "execution_count": 10,
   "id": "a9a1243b-9038-45c6-9416-126b832e241a",
   "metadata": {},
   "outputs": [
    {
     "name": "stderr",
     "output_type": "stream",
     "text": [
      "INFO:sagemaker.image_uris:Ignoring unnecessary instance type: None.\n"
     ]
    },
    {
     "data": {
      "text/plain": [
       "'257758044811.dkr.ecr.us-east-2.amazonaws.com/sagemaker-xgboost:1.2-1'"
      ]
     },
     "execution_count": 10,
     "metadata": {},
     "output_type": "execute_result"
    }
   ],
   "source": [
    "# Estimator 기반의 XGBoost 모델 생성\n",
    "\n",
    "from sagemaker.image_uris import retrieve\n",
    "from sagemaker.estimator import Estimator\n",
    "\n",
    "# Creates an XGBoost estimator based on the provided region.\n",
    "# region (str): The AWS region to retrieve the XGBoost container for.\n",
    "container = retrieve(\"xgboost\", region, version=\"1.2-1\")\n",
    "container  # '257758044811.dkr.ecr.us-east-2.amazonaws.com/sagemaker-xgboost:1.2-1' 이렇게 ECR 에서 xgboost SageMaker 이미지를 가져옴"
   ]
  },
  {
   "cell_type": "code",
   "execution_count": null,
   "id": "1e87f62b-b3da-44ad-8b52-84c69f81b40a",
   "metadata": {},
   "outputs": [],
   "source": [
    "container = retrieve(\"xgboost\", region, version=\"1.2-1\")\n",
    "\n",
    "# Estimator 활용\n",
    "xgb = Estimator(\n",
    "    container,\n",
    "    role,\n",
    "    instance_count=1,\n",
    "    instance_type=\"ml.m5.xlarge\",\n",
    "    disable_profiler=True,\n",
    "    sagemaker_session=session,\n",
    ")\n",
    "\n",
    "# Hyperparameters 설정\n",
    "xgb.set_hyperparameters(\n",
    "    max_depth=5,\n",
    "    eta=0.2,\n",
    "    gamma=4,\n",
    "    min_child_weight=6,\n",
    "    subsample=0.8,\n",
    "    objective=\"binary:logistic\",\n",
    "    num_round=800,\n",
    ")\n",
    "\n",
    "with Run(\n",
    "    experiment_name=experiment_name,\n",
    "    # create a experiment run with only the model training on it\n",
    "    run_name=\"fairness-bias-clarify\",\n",
    "    sagemaker_session=sagemaker_session,\n",
    ") as run:\n",
    "    xgb.fit({\"train\": train_input}, logs=False)"
   ]
  },
  {
   "cell_type": "code",
   "execution_count": null,
   "id": "d17e0f65-21e4-4510-87ee-9987aa812cde",
   "metadata": {},
   "outputs": [],
   "source": [
    "# 학습 완료 후 생성한 모델을 가지고 Clarify 정의해서 Fairness와 Explainability 분석해야 하므로 model을 저장합니다.\n",
    "model_name = \"clarify-bias-model-{}\".format(\n",
    "    datetime.now().strftime(\"%d-%m-%Y-%H-%M-%S\"))\n",
    "model = xgb.create_model(name=model_name)\n",
    "container_def = model.prepare_container_def()\n",
    "session.create_model(model_name, role, container_def)"
   ]
  },
  {
   "cell_type": "markdown",
   "id": "e5815b0a",
   "metadata": {},
   "source": [
    "### Clarify 정의해서 Fairness와 Explainability 분석\n"
   ]
  },
  {
   "cell_type": "code",
   "execution_count": 15,
   "id": "0ebbaa3b-5002-44be-969a-86177809900a",
   "metadata": {},
   "outputs": [
    {
     "name": "stderr",
     "output_type": "stream",
     "text": [
      "INFO:sagemaker.image_uris:Defaulting to the only supported framework/algorithm version: 1.0.\n",
      "INFO:sagemaker.image_uris:Ignoring unnecessary instance type: None.\n"
     ]
    }
   ],
   "source": [
    "# Clarify 정의해서 Fairness와 Explainability 분석\n",
    "from sagemaker import clarify\n",
    "\n",
    "clarify_processor = clarify.SageMakerClarifyProcessor(\n",
    "    role=role,\n",
    "    instance_count=1,\n",
    "    instance_type=\"ml.m5.xlarge\",\n",
    "    sagemaker_session=session\n",
    ")"
   ]
  },
  {
   "cell_type": "code",
   "execution_count": 16,
   "id": "6e7b68e7-21b1-4990-9bce-0686da69eb1c",
   "metadata": {},
   "outputs": [],
   "source": [
    "# report 저장할 경로 지정\n",
    "bias_report_output_path = \"s3://{}/{}/clarify-bias\".format(\n",
    "    default_bucket, default_prefix)\n",
    "\n",
    "# DataConfig: 어떤 데이터를 써서 Fairness를 판별할지 정의\n",
    "bias_data_config = clarify.DataConfig(\n",
    "    s3_data_input_path=train_uri,\n",
    "    s3_output_path=bias_report_output_path,\n",
    "    label=\"Target\",\n",
    "    headers=training_data.columns.to_list(),\n",
    "    dataset_type=\"text/csv\"\n",
    ")"
   ]
  },
  {
   "cell_type": "code",
   "execution_count": 18,
   "id": "746a05f1-6bf6-41e5-9af3-80fc3267234f",
   "metadata": {},
   "outputs": [],
   "source": [
    "# ModelConfig: 어떤 모델의 Fairness를 판단할지 정의\n",
    "model_config = clarify.ModelConfig(\n",
    "    model_name=model_name,\n",
    "    instance_type=\"ml.m5.xlarge\",\n",
    "    instance_count=1,\n",
    "    accept_type=\"text/csv\",\n",
    "    content_type=\"text/csv\",\n",
    ")"
   ]
  },
  {
   "cell_type": "code",
   "execution_count": 19,
   "id": "1b97f08b-617f-4be3-a84d-94729d6d935c",
   "metadata": {},
   "outputs": [],
   "source": [
    "# Prediction을 하는데, 어느 값을 기준으로 probability를 0 or 1로 볼지 정의\n",
    "predictions_config = clarify.ModelPredictedLabelConfig(\n",
    "    probability_threshold=0.75)"
   ]
  },
  {
   "cell_type": "code",
   "execution_count": 20,
   "id": "45a152c7-b83d-43d9-8b2c-92baebacd885",
   "metadata": {},
   "outputs": [],
   "source": [
    "# BiasConfig: Bias는 pre-training bias(학습 전 데이터만으로 bias를 판별하는 것), post-training bias(training후 모델의 추론 결과를 통해 bias를 측정하는 것) 를 판별할 수 있는데,\n",
    "\n",
    "bias_config = clarify.BiasConfig(\n",
    "    label_values_or_threshold=[1],\n",
    "    facet_name=\"Sex\",\n",
    "    facet_values_or_threshold=[0],\n",
    "    group_name=\"Age\"\n",
    ")"
   ]
  },
  {
   "cell_type": "code",
   "execution_count": null,
   "id": "003e6676-c8af-4ef1-b2c7-57fbce292f52",
   "metadata": {},
   "outputs": [],
   "source": [
    "# 위에서 생성한 모델을 바탕으로 bias를 추출합니다.\n",
    "with Run(\n",
    "    experiment_name=experiment_name,\n",
    "    run_name=\"bias-only\",  # create a experiment run with only the bias analysis on it\n",
    "    sagemaker_session=sagemaker_session,\n",
    ") as run:\n",
    "    clarify_processor.run_bias(\n",
    "        data_config=bias_data_config,\n",
    "        bias_config=bias_config,\n",
    "        model_config=model_config,\n",
    "        model_predicted_label_config=predictions_config,\n",
    "        pre_training_methods=\"all\",\n",
    "        post_training_methods=\"all\",\n",
    "    )"
   ]
  },
  {
   "cell_type": "code",
   "execution_count": 22,
   "id": "47890439-ca47-4fea-99ae-501ede19aa3b",
   "metadata": {},
   "outputs": [],
   "source": [
    "# Explinability\n",
    "shap_config = clarify.SHAPConfig(\n",
    "    baseline=[test_features.iloc[0].values.tolist()],\n",
    "    num_samples=15,\n",
    "    agg_method=\"mean_abs\",\n",
    "    save_local_shap_values=True,\n",
    ")\n",
    "\n",
    "explainability_output_path = \"s3://{}/{}/clarify-explainability\".format(\n",
    "    default_bucket, default_prefix\n",
    ")\n",
    "explainability_data_config = clarify.DataConfig(\n",
    "    s3_data_input_path=train_uri,\n",
    "    s3_output_path=explainability_output_path,\n",
    "    label=\"Target\",\n",
    "    headers=training_data.columns.to_list(),\n",
    "    dataset_type=\"text/csv\",\n",
    ")"
   ]
  },
  {
   "cell_type": "code",
   "execution_count": null,
   "id": "4eb95897-a60a-4416-b49d-cd539c043fdd",
   "metadata": {},
   "outputs": [],
   "source": [
    "with Run(\n",
    "    experiment_name=experiment_name,\n",
    "    # create a experiment run with only the model explainabilit on it\n",
    "    run_name=\"explainabilit-only\",\n",
    "    sagemaker_session=sagemaker_session,\n",
    ") as run:\n",
    "    clarify_processor.run_explainability(\n",
    "        data_config=explainability_data_config,\n",
    "        model_config=model_config,\n",
    "        explainability_config=shap_config,\n",
    "    )"
   ]
  },
  {
   "cell_type": "code",
   "execution_count": null,
   "id": "3a9192ba-52f8-4a43-aabd-5ff618fee629",
   "metadata": {},
   "outputs": [],
   "source": []
  }
 ],
 "metadata": {
  "kernelspec": {
   "display_name": "Python 3 (ipykernel)",
   "language": "python",
   "name": "python3"
  },
  "language_info": {
   "codemirror_mode": {
    "name": "ipython",
    "version": 3
   },
   "file_extension": ".py",
   "mimetype": "text/x-python",
   "name": "python",
   "nbconvert_exporter": "python",
   "pygments_lexer": "ipython3",
   "version": "3.10.13"
  }
 },
 "nbformat": 4,
 "nbformat_minor": 5
}
